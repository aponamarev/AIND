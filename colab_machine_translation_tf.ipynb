{
  "nbformat": 4,
  "nbformat_minor": 0,
  "metadata": {
    "colab": {
      "name": "Copy of machine_translation_tf.ipynb",
      "version": "0.3.2",
      "provenance": [],
      "include_colab_link": true
    },
    "language_info": {
      "codemirror_mode": {
        "name": "ipython",
        "version": 3
      },
      "file_extension": ".py",
      "mimetype": "text/x-python",
      "name": "python",
      "nbconvert_exporter": "python",
      "pygments_lexer": "ipython3",
      "version": "3.6.8"
    },
    "kernelspec": {
      "name": "python3",
      "display_name": "Python 3"
    },
    "accelerator": "GPU"
  },
  "cells": [
    {
      "cell_type": "markdown",
      "metadata": {
        "id": "view-in-github",
        "colab_type": "text"
      },
      "source": [
        "<a href=\"https://colab.research.google.com/github/aponamarev/AIND/blob/master/colab_machine_translation_tf.ipynb\" target=\"_parent\"><img src=\"https://colab.research.google.com/assets/colab-badge.svg\" alt=\"Open In Colab\"/></a>"
      ]
    },
    {
      "cell_type": "markdown",
      "metadata": {
        "collapsed": true,
        "id": "zMoU8jVW09W9",
        "colab_type": "text"
      },
      "source": [
        "# Artificial Intelligence Nanodegree\n",
        "## Machine Translation Project\n",
        "In this notebook, sections that end with **'(IMPLEMENTATION)'** in the header indicate that the following blocks of code will require additional functionality which you must provide. Please be sure to read the instructions carefully!\n",
        "\n",
        "## Introduction\n",
        "In this notebook, you will build a deep neural network that functions as part of an end-to-end machine translation pipeline. Your completed pipeline will accept English text as input and return the French translation.\n",
        "\n",
        "- **Preprocess** - You'll convert text to sequence of integers.\n",
        "- **Models** Create models which accepts a sequence of integers as input and returns a probability distribution over possible translations. After learning about the basic types of neural networks that are often used for machine translation, you will engage in your own investigations, to design your own model!\n",
        "- **Prediction** Run the model on English text."
      ]
    },
    {
      "cell_type": "code",
      "metadata": {
        "id": "7RxTI3xU09XA",
        "colab_type": "code",
        "outputId": "9c5e7521-9f99-49af-a5e7-9ca1d9a1b578",
        "colab": {
          "base_uri": "https://localhost:8080/",
          "height": 119
        }
      },
      "source": [
        "!git clone https://github.com/ap-nlp-research/aind2-nlp-capstone.git"
      ],
      "execution_count": 0,
      "outputs": [
        {
          "output_type": "stream",
          "text": [
            "Cloning into 'aind2-nlp-capstone'...\n",
            "remote: Enumerating objects: 41, done.\u001b[K\n",
            "remote: Counting objects: 100% (41/41), done.\u001b[K\n",
            "remote: Compressing objects: 100% (30/30), done.\u001b[K\n",
            "remote: Total 82 (delta 21), reused 31 (delta 11), pack-reused 41\u001b[K\n",
            "Unpacking objects: 100% (82/82), done.\n"
          ],
          "name": "stdout"
        }
      ]
    },
    {
      "cell_type": "code",
      "metadata": {
        "id": "N7DF2HJe09XI",
        "colab_type": "code",
        "colab": {}
      },
      "source": [
        "import os\n",
        "from tqdm import tqdm, tqdm_notebook\n",
        "import numpy as np\n",
        "from tensorflow import keras\n",
        "import tensorflow as tf\n",
        "from tensorflow.contrib.rnn import GRUCell"
      ],
      "execution_count": 0,
      "outputs": []
    },
    {
      "cell_type": "markdown",
      "metadata": {
        "id": "4KfnIXrx09XO",
        "colab_type": "text"
      },
      "source": [
        "### Verify access to the GPU\n",
        "The following test applies only if you expect to be using a GPU, e.g., while running in a Udacity Workspace or using an AWS instance with GPU support. Run the next cell, and verify that the device_type is \"GPU\".\n",
        "- If the device is not GPU & you are running from a Udacity Workspace, then save your workspace with the icon at the top, then click \"enable\" at the bottom of the workspace.\n",
        "- If the device is not GPU & you are running from an AWS instance, then refer to the cloud computing instructions in the classroom to verify your setup steps."
      ]
    },
    {
      "cell_type": "code",
      "metadata": {
        "id": "nPlNRi9t09XP",
        "colab_type": "code",
        "outputId": "ef541979-149f-4bb6-b8e0-14d3ec28c6ed",
        "colab": {
          "base_uri": "https://localhost:8080/",
          "height": 544
        }
      },
      "source": [
        "from tensorflow.python.client import device_lib\n",
        "print(device_lib.list_local_devices())"
      ],
      "execution_count": 0,
      "outputs": [
        {
          "output_type": "stream",
          "text": [
            "[name: \"/device:CPU:0\"\n",
            "device_type: \"CPU\"\n",
            "memory_limit: 268435456\n",
            "locality {\n",
            "}\n",
            "incarnation: 13098065592828196108\n",
            ", name: \"/device:XLA_CPU:0\"\n",
            "device_type: \"XLA_CPU\"\n",
            "memory_limit: 17179869184\n",
            "locality {\n",
            "}\n",
            "incarnation: 12580229728513343825\n",
            "physical_device_desc: \"device: XLA_CPU device\"\n",
            ", name: \"/device:XLA_GPU:0\"\n",
            "device_type: \"XLA_GPU\"\n",
            "memory_limit: 17179869184\n",
            "locality {\n",
            "}\n",
            "incarnation: 13073439521009767319\n",
            "physical_device_desc: \"device: XLA_GPU device\"\n",
            ", name: \"/device:GPU:0\"\n",
            "device_type: \"GPU\"\n",
            "memory_limit: 14800692839\n",
            "locality {\n",
            "  bus_id: 1\n",
            "  links {\n",
            "  }\n",
            "}\n",
            "incarnation: 6679711592725962550\n",
            "physical_device_desc: \"device: 0, name: Tesla T4, pci bus id: 0000:00:04.0, compute capability: 7.5\"\n",
            "]\n"
          ],
          "name": "stdout"
        }
      ]
    },
    {
      "cell_type": "markdown",
      "metadata": {
        "id": "KSbClAu009XS",
        "colab_type": "text"
      },
      "source": [
        "## Dataset\n",
        "We begin by investigating the dataset that will be used to train and evaluate your pipeline.  The most common datasets used for machine translation are from [WMT](http://www.statmt.org/).  However, that will take a long time to train a neural network on.  We'll be using a dataset we created for this project that contains a small vocabulary.  You'll be able to train your model in a reasonable time with this dataset.\n",
        "### Load Data\n",
        "The data is located in `data/small_vocab_en` and `data/small_vocab_fr`. The `small_vocab_en` file contains English sentences with their French translations in the `small_vocab_fr` file. Load the English and French data from these files from running the cell below."
      ]
    },
    {
      "cell_type": "code",
      "metadata": {
        "id": "pzvwSPc309XT",
        "colab_type": "code",
        "outputId": "eb58392b-f251-4d08-ced4-74942d1574f9",
        "colab": {
          "base_uri": "https://localhost:8080/",
          "height": 34
        }
      },
      "source": [
        "def load_data(path):\n",
        "    \"\"\"\n",
        "    Load dataset\n",
        "    \"\"\"\n",
        "    input_file = os.path.join(path)\n",
        "    with open(input_file, \"r\") as f:\n",
        "        data = f.read()\n",
        "\n",
        "    return data.split('\\n')\n",
        "# Load English data\n",
        "english_sentences = load_data('aind2-nlp-capstone/data/small_vocab_en')\n",
        "# Load French data\n",
        "french_sentences = load_data('aind2-nlp-capstone/data/small_vocab_fr')\n",
        "\n",
        "print('Dataset Loaded')"
      ],
      "execution_count": 0,
      "outputs": [
        {
          "output_type": "stream",
          "text": [
            "Dataset Loaded\n"
          ],
          "name": "stdout"
        }
      ]
    },
    {
      "cell_type": "markdown",
      "metadata": {
        "id": "7WMQQbrO09XW",
        "colab_type": "text"
      },
      "source": [
        "### Files\n",
        "Each line in `small_vocab_en` contains an English sentence with the respective translation in each line of `small_vocab_fr`.  View the first two lines from each file."
      ]
    },
    {
      "cell_type": "code",
      "metadata": {
        "id": "qPaZCAu709XX",
        "colab_type": "code",
        "outputId": "9ef95b31-3708-4414-89ea-4813290708bb",
        "colab": {
          "base_uri": "https://localhost:8080/",
          "height": 85
        }
      },
      "source": [
        "for sample_i in range(2):\n",
        "    print('small_vocab_en Line {}:  {}'.format(sample_i + 1, english_sentences[sample_i]))\n",
        "    print('small_vocab_fr Line {}:  {}'.format(sample_i + 1, french_sentences[sample_i]))"
      ],
      "execution_count": 0,
      "outputs": [
        {
          "output_type": "stream",
          "text": [
            "small_vocab_en Line 1:  new jersey is sometimes quiet during autumn , and it is snowy in april .\n",
            "small_vocab_fr Line 1:  new jersey est parfois calme pendant l' automne , et il est neigeux en avril .\n",
            "small_vocab_en Line 2:  the united states is usually chilly during july , and it is usually freezing in november .\n",
            "small_vocab_fr Line 2:  les états-unis est généralement froid en juillet , et il gèle habituellement en novembre .\n"
          ],
          "name": "stdout"
        }
      ]
    },
    {
      "cell_type": "markdown",
      "metadata": {
        "id": "Iyuzio5d09XZ",
        "colab_type": "text"
      },
      "source": [
        "From looking at the sentences, you can see they have been preprocessed already.  The puncuations have been delimited using spaces. All the text have been converted to lowercase.  This should save you some time, but the text requires more preprocessing.\n",
        "### Vocabulary\n",
        "The complexity of the problem is determined by the complexity of the vocabulary.  A more complex vocabulary is a more complex problem.  Let's look at the complexity of the dataset we'll be working with."
      ]
    },
    {
      "cell_type": "markdown",
      "metadata": {
        "id": "QNRz8Nnu09XZ",
        "colab_type": "text"
      },
      "source": [
        "For comparison, _Alice's Adventures in Wonderland_ contains 2,766 unique words of a total of 15,500 words.\n",
        "## Preprocess\n",
        "For this project, you won't use text data as input to your model. Instead, you'll convert the text into sequences of integers using the following preprocess methods:\n",
        "1. Tokenize the words into ids\n",
        "2. Add padding to make all the sequences the same length.\n",
        "\n",
        "Time to start preprocessing the data...\n",
        "### Tokenize (IMPLEMENTATION)\n",
        "For a neural network to predict on text data, it first has to be turned into data it can understand. Text data like \"dog\" is a sequence of ASCII character encodings.  Since a neural network is a series of multiplication and addition operations, the input data needs to be number(s).\n",
        "\n",
        "We can turn each character into a number or each word into a number.  These are called character and word ids, respectively.  Character ids are used for character level models that generate text predictions for each character.  A word level model uses word ids that generate text predictions for each word.  Word level models tend to learn better, since they are lower in complexity, so we'll use those.\n",
        "\n",
        "Turn each sentence into a sequence of words ids using Keras's [`Tokenizer`](https://keras.io/preprocessing/text/#tokenizer) function. Use this function to tokenize `english_sentences` and `french_sentences` in the cell below.\n",
        "\n",
        "Running the cell will run `tokenize` on sample data and show output for debugging."
      ]
    },
    {
      "cell_type": "code",
      "metadata": {
        "id": "yd6fBPW009Xa",
        "colab_type": "code",
        "outputId": "0f202807-4cb6-4867-8652-e22e9b71e5b9",
        "colab": {
          "base_uri": "https://localhost:8080/",
          "height": 229
        }
      },
      "source": [
        "def tokenize(x):\n",
        "    \"\"\"\n",
        "    Tokenize x\n",
        "    :param x: List of sentences/strings to be tokenized\n",
        "    :return: Tuple of (tokenized x data, tokenizer used to tokenize x)\n",
        "    \"\"\"\n",
        "    x_tk = keras.preprocessing.text.Tokenizer()\n",
        "    x_tk.fit_on_texts(x)\n",
        "    return x_tk.texts_to_sequences(x), x_tk\n",
        "\n",
        "\n",
        "# Tokenize Example output\n",
        "text_sentences = [\n",
        "    'The quick brown fox jumps over the lazy dog .',\n",
        "    'By Jove , my quick study of lexicography won a prize .',\n",
        "    'This is a short sentence .']\n",
        "text_tokenized, text_tokenizer = tokenize(text_sentences)\n",
        "print(text_tokenizer.word_index)\n",
        "print()\n",
        "for sample_i, (sent, token_sent) in enumerate(zip(text_sentences, text_tokenized)):\n",
        "    print('Sequence {} in x'.format(sample_i + 1))\n",
        "    print('  Input:  {}'.format(sent))\n",
        "    print('  Output: {}'.format(token_sent))"
      ],
      "execution_count": 0,
      "outputs": [
        {
          "output_type": "stream",
          "text": [
            "{'the': 1, 'quick': 2, 'a': 3, 'brown': 4, 'fox': 5, 'jumps': 6, 'over': 7, 'lazy': 8, 'dog': 9, 'by': 10, 'jove': 11, 'my': 12, 'study': 13, 'of': 14, 'lexicography': 15, 'won': 16, 'prize': 17, 'this': 18, 'is': 19, 'short': 20, 'sentence': 21}\n",
            "\n",
            "Sequence 1 in x\n",
            "  Input:  The quick brown fox jumps over the lazy dog .\n",
            "  Output: [1, 2, 4, 5, 6, 7, 1, 8, 9]\n",
            "Sequence 2 in x\n",
            "  Input:  By Jove , my quick study of lexicography won a prize .\n",
            "  Output: [10, 11, 12, 2, 13, 14, 15, 16, 3, 17]\n",
            "Sequence 3 in x\n",
            "  Input:  This is a short sentence .\n",
            "  Output: [18, 19, 3, 20, 21]\n"
          ],
          "name": "stdout"
        }
      ]
    },
    {
      "cell_type": "markdown",
      "metadata": {
        "id": "gGZ93alL09Xc",
        "colab_type": "text"
      },
      "source": [
        "### Padding (IMPLEMENTATION)\n",
        "When batching the sequence of word ids together, each sequence needs to be the same length.  Since sentences are dynamic in length, we can add padding to the end of the sequences to make them the same length.\n",
        "\n",
        "Make sure all the English sequences have the same length and all the French sequences have the same length by adding padding to the **end** of each sequence using Keras's [`pad_sequences`](https://keras.io/preprocessing/sequence/#pad_sequences) function."
      ]
    },
    {
      "cell_type": "code",
      "metadata": {
        "id": "555sLn4d09Xd",
        "colab_type": "code",
        "outputId": "290e4517-f318-48e9-fa8b-5c1ac5a4daaa",
        "colab": {
          "base_uri": "https://localhost:8080/",
          "height": 170
        }
      },
      "source": [
        "def pad(x, length=None):\n",
        "    \"\"\"\n",
        "    Pad x\n",
        "    :param x: List of sequences.\n",
        "    :param length: Length to pad the sequence to.  If None, use length of longest sequence in x.\n",
        "    :return: Padded numpy array of sequences\n",
        "    \"\"\"\n",
        "    if length is None:\n",
        "        length = max([len(sentence) for sentence in x])\n",
        "\n",
        "    return keras.preprocessing.sequence.pad_sequences(x, maxlen=length, padding='post')\n",
        "\n",
        "# Pad Tokenized output\n",
        "test_pad = pad(text_tokenized)\n",
        "for sample_i, (token_sent, pad_sent) in enumerate(zip(text_tokenized, test_pad)):\n",
        "    print('Sequence {} in x'.format(sample_i + 1))\n",
        "    print('  Input:  {}'.format(np.array(token_sent)))\n",
        "    print('  Output: {}'.format(pad_sent))"
      ],
      "execution_count": 0,
      "outputs": [
        {
          "output_type": "stream",
          "text": [
            "Sequence 1 in x\n",
            "  Input:  [1 2 4 5 6 7 1 8 9]\n",
            "  Output: [1 2 4 5 6 7 1 8 9 0]\n",
            "Sequence 2 in x\n",
            "  Input:  [10 11 12  2 13 14 15 16  3 17]\n",
            "  Output: [10 11 12  2 13 14 15 16  3 17]\n",
            "Sequence 3 in x\n",
            "  Input:  [18 19  3 20 21]\n",
            "  Output: [18 19  3 20 21  0  0  0  0  0]\n"
          ],
          "name": "stdout"
        }
      ]
    },
    {
      "cell_type": "markdown",
      "metadata": {
        "id": "3PNy2O5e09Xf",
        "colab_type": "text"
      },
      "source": [
        "### Preprocess Pipeline\n",
        "Your focus for this project is to build neural network architecture, so we won't ask you to create a preprocess pipeline.  Instead, we've provided you with the implementation of the `preprocess` function."
      ]
    },
    {
      "cell_type": "code",
      "metadata": {
        "id": "ZI3HiFTE09Xf",
        "colab_type": "code",
        "outputId": "a018c1bd-2520-4fc8-9b20-87b16c457ce4",
        "colab": {
          "base_uri": "https://localhost:8080/",
          "height": 102
        }
      },
      "source": [
        "def preprocess(x, y):\n",
        "    \"\"\"\n",
        "    Preprocess x and y\n",
        "    :param x: Feature List of sentences\n",
        "    :param y: Label List of sentences\n",
        "    :return: Tuple of (Preprocessed x, Preprocessed y, x tokenizer, y tokenizer)\n",
        "    \"\"\"\n",
        "    preprocess_x, x_tk = tokenize(x)\n",
        "    preprocess_y, y_tk = tokenize(y)\n",
        "\n",
        "    preprocess_x = pad(preprocess_x)\n",
        "    preprocess_y = pad(preprocess_y)\n",
        "\n",
        "    return preprocess_x, preprocess_y, x_tk, y_tk\n",
        "\n",
        "preproc_english_sentences, preproc_french_sentences, english_tokenizer, french_tokenizer =\\\n",
        "    preprocess(english_sentences, french_sentences)\n",
        "    \n",
        "max_english_sequence_length = preproc_english_sentences.shape[1]\n",
        "max_french_sequence_length = preproc_french_sentences.shape[1]\n",
        "english_vocab_size = len(english_tokenizer.word_index)\n",
        "french_vocab_size = len(french_tokenizer.word_index)\n",
        "\n",
        "print('Data Preprocessed')\n",
        "print(\"Max English sentence length:\", max_english_sequence_length)\n",
        "print(\"Max French sentence length:\", max_french_sequence_length)\n",
        "print(\"English vocabulary size:\", english_vocab_size)\n",
        "print(\"French vocabulary size:\", french_vocab_size)"
      ],
      "execution_count": 0,
      "outputs": [
        {
          "output_type": "stream",
          "text": [
            "Data Preprocessed\n",
            "Max English sentence length: 15\n",
            "Max French sentence length: 21\n",
            "English vocabulary size: 199\n",
            "French vocabulary size: 344\n"
          ],
          "name": "stdout"
        }
      ]
    },
    {
      "cell_type": "markdown",
      "metadata": {
        "id": "lVh3qsUt09Xh",
        "colab_type": "text"
      },
      "source": [
        "## Models\n",
        "In this section, you will experiment with various neural network architectures.\n",
        "You will begin by training four relatively simple architectures.\n",
        "- Model 1 is a simple RNN\n",
        "- Model 2 is a RNN with Embedding\n",
        "- Model 3 is a Bidirectional RNN\n",
        "- Model 4 is an optional Encoder-Decoder RNN\n",
        "\n",
        "After experimenting with the four simple architectures, you will construct a deeper architecture that is designed to outperform all four models.\n",
        "### Ids Back to Text\n",
        "The neural network will be translating the input to words ids, which isn't the final form we want.  We want the French translation.  The function `logits_to_text` will bridge the gab between the logits from the neural network to the French translation.  You'll be using this function to better understand the output of the neural network."
      ]
    },
    {
      "cell_type": "code",
      "metadata": {
        "id": "z874CC5409Xh",
        "colab_type": "code",
        "outputId": "d28caff4-1dca-4296-ce95-88a22ac91810",
        "colab": {
          "base_uri": "https://localhost:8080/",
          "height": 34
        }
      },
      "source": [
        "def logits_to_text(logits, tokenizer):\n",
        "    \"\"\"\n",
        "    Turn logits from a neural network into text using the tokenizer\n",
        "    :param logits: Logits from a neural network\n",
        "    :param tokenizer: Keras Tokenizer fit on the labels\n",
        "    :return: String that represents the text of the logits\n",
        "    \"\"\"\n",
        "    index_to_words = {id: word for word, id in tokenizer.word_index.items()}\n",
        "    index_to_words[0] = '<PAD>'\n",
        "\n",
        "    return ' '.join([index_to_words[prediction] for prediction in np.argmax(logits, 1)])\n",
        "\n",
        "print('`logits_to_text` function loaded.')"
      ],
      "execution_count": 0,
      "outputs": [
        {
          "output_type": "stream",
          "text": [
            "`logits_to_text` function loaded.\n"
          ],
          "name": "stdout"
        }
      ]
    },
    {
      "cell_type": "code",
      "metadata": {
        "id": "tWLOAXKj09Xj",
        "colab_type": "code",
        "colab": {}
      },
      "source": [
        "def train(train_ops: list, metrics: list, inputs: np.ndarray, targets: np.ndarray, epochs: int, batch_size: int):\n",
        "    n_samples = len(inputs)\n",
        "    n_batches = (n_samples + batch_size - 1) // batch_size\n",
        "\n",
        "    metric_names = [m.op.name for m in metrics]\n",
        "\n",
        "    with tf.get_default_graph().as_default() as graph:\n",
        "\n",
        "        input_tensors = tf.get_collection('inputs')[0]\n",
        "        target_tensors = tf.get_collection('targets')[0]\n",
        "\n",
        "        # Get a TensorFlow session managed by the supervisor.\n",
        "        with tf.Session(graph=graph) as sess:\n",
        "            # Initialize all global variables\n",
        "            _ = sess.run([tf.global_variables_initializer(), tf.local_variables_initializer()])\n",
        "\n",
        "            for epoc in range(epochs):\n",
        "\n",
        "                pbar = tqdm(range(n_batches), desc=\"Epoch {}\".format(epoc))\n",
        "\n",
        "                for it in pbar:\n",
        "                    start = it * batch_size\n",
        "                    end = min(n_samples, start + batch_size)\n",
        "\n",
        "                    x, y = inputs[start:end], targets[start:end]\n",
        "\n",
        "                    _, metrics_output = sess.run([train_ops, metrics], feed_dict={input_tensors: x, target_tensors: y})\n",
        "\n",
        "                    pbar.set_postfix(dict([(m, v) for m, v in zip(metric_names, metrics_output)]), refresh=True)"
      ],
      "execution_count": 0,
      "outputs": []
    },
    {
      "cell_type": "markdown",
      "metadata": {
        "id": "eTsdtJ9y09Xl",
        "colab_type": "text"
      },
      "source": [
        "### Model 1: RNN (IMPLEMENTATION)\n",
        "![RNN](https://github.com/ap-nlp-research/aind2-nlp-capstone/blob/master/images/rnn.png?raw=1)\n",
        "A basic RNN model is a good baseline for sequence data.  In this model, you'll build a RNN that translates English to French."
      ]
    },
    {
      "cell_type": "code",
      "metadata": {
        "id": "JNO_5Dhi09Xl",
        "colab_type": "code",
        "colab": {}
      },
      "source": [
        "def embed_input(x: tf.Tensor, n_words: int, embedding_size: int) -> tf.Tensor:\n",
        "    # Create embedding\n",
        "    emdedded_input = tf.nn.embedding_lookup(params=tf.get_variable(name=\"embedding\", shape=(n_words, embedding_size)),\n",
        "                                            ids=x)\n",
        "    return emdedded_input\n",
        "\n",
        "\n",
        "def create_encoder(emdedded_input: tf.Tensor, num_units: int = 64) -> tf.Tensor:\n",
        "    \"\"\"\n",
        "\n",
        "    :param x: tf.placeholder or data input\n",
        "    :return:\n",
        "    \"\"\"\n",
        "    with tf.variable_scope(\"encoder\"):\n",
        "        cell = GRUCell(num_units=num_units)\n",
        "        _, encoder_final_state = tf.nn.dynamic_rnn(cell=cell, inputs=emdedded_input, dtype=tf.float32)\n",
        "\n",
        "    return encoder_final_state\n",
        "\n",
        "\n",
        "def create_decoder(encoder_hs: tf.Tensor, sequence_length: int) -> tf.Tensor:\n",
        "    batch_size = tf.shape(encoder_hs)[0]\n",
        "    encoder_units = encoder_hs.get_shape().as_list()[-1]\n",
        "    dtype = encoder_hs.dtype\n",
        "    # create a decoder cell\n",
        "\n",
        "    def teacher_forcing_loop(time, cell_output = None, cell_state = None, loop_state = None):\n",
        "        emit_output = cell_output  # == None for time == 0\n",
        "        elements_finished = (time >= sequence_length)\n",
        "        # time == 0 initialize the sequence with encoder hidden state\n",
        "        # otherwise, force the cell output as RNNCell input\n",
        "        if cell_output is None:  # time == 0\n",
        "            next_cell_state = encoder_hs\n",
        "            next_input = tf.zeros([batch_size, encoder_units], dtype=dtype)\n",
        "        else:\n",
        "            next_cell_state = cell_state\n",
        "            finished = tf.reduce_all(elements_finished)\n",
        "            next_input = tf.cond(\n",
        "                    finished,\n",
        "                    lambda: tf.zeros([batch_size, encoder_units], dtype=dtype),\n",
        "                    lambda: cell_output)\n",
        "        next_loop_state = None\n",
        "        return (elements_finished, next_input, next_cell_state,\n",
        "                emit_output, next_loop_state)\n",
        "\n",
        "    with tf.variable_scope(\"decoder\"):\n",
        "        cell = GRUCell(num_units=encoder_units)\n",
        "\n",
        "        # unroll the sequence reusing cell output as the next input\n",
        "        outputs_ta, decoder_final_state, _ = tf.nn.raw_rnn(cell, loop_fn=teacher_forcing_loop)\n",
        "\n",
        "        # outputs provided in the form of tensor array that should be converted back into a tensor\n",
        "        decoder_output = outputs_ta.stack()\n",
        "\n",
        "    return decoder_output\n",
        "\n",
        "\n",
        "def create_encoder_decoder_model(inputs: tf.Tensor,\n",
        "                                 source_size: int,\n",
        "                                 target_size: int,\n",
        "                                 target_length: int,\n",
        "                                 embedding_size: int = 16) -> tf.Tensor:\n",
        "    embedded_input = embed_input(inputs, n_words=source_size, embedding_size=embedding_size)\n",
        "    embedded_input = tf.layers.batch_normalization(embedded_input)\n",
        "    encoder_hs = create_encoder(embedded_input, num_units=256)\n",
        "    decoder_output = create_decoder(encoder_hs, sequence_length=target_length)\n",
        "    decoder_output = tf.layers.batch_normalization(decoder_output)\n",
        "    logits = tf.layers.Dense(units=target_size)(decoder_output)\n",
        "\n",
        "    return logits"
      ],
      "execution_count": 0,
      "outputs": []
    },
    {
      "cell_type": "code",
      "metadata": {
        "id": "eY_k8AMf09Xm",
        "colab_type": "code",
        "outputId": "da48041f-3735-4a75-aa87-978591062c92",
        "colab": {
          "base_uri": "https://localhost:8080/",
          "height": 357
        }
      },
      "source": [
        "# refresh the graph to make sure nothing was left there from prior runs\n",
        "tf.reset_default_graph()\n",
        "\n",
        "inputs = tf.placeholder(tf.int32, [None, max_english_sequence_length], name='inputs')\n",
        "tf.add_to_collection(name=\"inputs\", value=inputs)\n",
        "targets = tf.placeholder(tf.int32, [None, max_french_sequence_length], name='targets')\n",
        "tf.add_to_collection(name=\"targets\", value=targets)\n",
        "\n",
        "logits = create_encoder_decoder_model(inputs=inputs,\n",
        "                                      source_size=english_vocab_size+1,\n",
        "                                      target_size=french_vocab_size+1,\n",
        "                                      target_length=max_french_sequence_length)\n",
        "# To be consumed correctly be TF metrics and losses, logits should be transposed [1, 0, 2]\n",
        "logits = tf.transpose(logits, [1, 0, 2])\n",
        "\n",
        "# build a loss function\n",
        "loss = tf.reduce_mean(tf.losses.sparse_softmax_cross_entropy(labels=targets, logits=logits), name='acc_loss')\n",
        "# build accuracy metric\n",
        "predictions = tf.argmax(logits, axis=2, name=\"prediction\")\n",
        "accuracy, update_count_op = tf.metrics.accuracy(labels=targets, predictions=predictions)\n",
        "\n",
        "variables = tf.trainable_variables()\n",
        "gradients = tf.gradients(loss, variables)\n",
        "\n",
        "clipped_gradients, _ = tf.clip_by_global_norm(gradients, 5.0)\n",
        "\n",
        "# Optimization\n",
        "global_step = tf.train.get_or_create_global_step()\n",
        "optimizer = tf.train.AdamOptimizer(learning_rate = 0.001)\n",
        "update_step = optimizer.apply_gradients(zip(clipped_gradients, variables))\n",
        "\n",
        "train(train_ops=[update_step, update_count_op, global_step],\n",
        "      metrics=[loss, accuracy],\n",
        "      inputs=preproc_english_sentences,\n",
        "      targets=preproc_french_sentences,\n",
        "      epochs=20,\n",
        "      batch_size=1024)"
      ],
      "execution_count": 0,
      "outputs": [
        {
          "output_type": "stream",
          "text": [
            "Epoch 0: 100%|██████████| 135/135 [00:08<00:00, 16.76it/s, acc_loss=1.98, accuracy/value=0.479]\n",
            "Epoch 1: 100%|██████████| 135/135 [00:08<00:00, 16.51it/s, acc_loss=1.56, accuracy/value=0.528]\n",
            "Epoch 2: 100%|██████████| 135/135 [00:07<00:00, 17.09it/s, acc_loss=1.4, accuracy/value=0.557]\n",
            "Epoch 3: 100%|██████████| 135/135 [00:07<00:00, 17.06it/s, acc_loss=1.28, accuracy/value=0.578]\n",
            "Epoch 4: 100%|██████████| 135/135 [00:07<00:00, 17.07it/s, acc_loss=1.19, accuracy/value=0.595]\n",
            "Epoch 5: 100%|██████████| 135/135 [00:07<00:00, 17.08it/s, acc_loss=1.07, accuracy/value=0.61]\n",
            "Epoch 6: 100%|██████████| 135/135 [00:07<00:00, 17.01it/s, acc_loss=1.04, accuracy/value=0.622]\n",
            "Epoch 7: 100%|██████████| 135/135 [00:07<00:00, 16.97it/s, acc_loss=0.998, accuracy/value=0.632]\n",
            "Epoch 8: 100%|██████████| 135/135 [00:07<00:00, 16.99it/s, acc_loss=0.943, accuracy/value=0.641]\n",
            "Epoch 9: 100%|██████████| 135/135 [00:07<00:00, 17.01it/s, acc_loss=0.906, accuracy/value=0.65]\n",
            "Epoch 10: 100%|██████████| 135/135 [00:07<00:00, 16.90it/s, acc_loss=0.845, accuracy/value=0.658]\n",
            "Epoch 11: 100%|██████████| 135/135 [00:08<00:00, 16.28it/s, acc_loss=0.805, accuracy/value=0.665]\n",
            "Epoch 12: 100%|██████████| 135/135 [00:08<00:00, 16.76it/s, acc_loss=0.777, accuracy/value=0.672]\n",
            "Epoch 13: 100%|██████████| 135/135 [00:08<00:00, 16.83it/s, acc_loss=0.757, accuracy/value=0.678]\n",
            "Epoch 14: 100%|██████████| 135/135 [00:07<00:00, 16.88it/s, acc_loss=0.722, accuracy/value=0.684]\n",
            "Epoch 15: 100%|██████████| 135/135 [00:08<00:00, 16.83it/s, acc_loss=0.7, accuracy/value=0.689]\n",
            "Epoch 16: 100%|██████████| 135/135 [00:08<00:00, 16.81it/s, acc_loss=0.669, accuracy/value=0.695]\n",
            "Epoch 17: 100%|██████████| 135/135 [00:08<00:00, 16.77it/s, acc_loss=0.656, accuracy/value=0.7]\n",
            "Epoch 18: 100%|██████████| 135/135 [00:08<00:00, 16.71it/s, acc_loss=0.632, accuracy/value=0.704]\n",
            "Epoch 19: 100%|██████████| 135/135 [00:08<00:00, 16.79it/s, acc_loss=0.601, accuracy/value=0.709]\n"
          ],
          "name": "stderr"
        }
      ]
    },
    {
      "cell_type": "markdown",
      "metadata": {
        "id": "S4gWkOxW09Xp",
        "colab_type": "text"
      },
      "source": [
        "## Prediction (IMPLEMENTATION)"
      ]
    },
    {
      "cell_type": "code",
      "metadata": {
        "id": "nQ1YwRU009Xp",
        "colab_type": "code",
        "outputId": "6286187c-b1e2-4394-f0e4-69f550899fea",
        "colab": {
          "base_uri": "https://localhost:8080/",
          "height": 317
        }
      },
      "source": [
        "def final_predictions(x, y, x_tk, y_tk):\n",
        "    \"\"\"\n",
        "    Gets predictions using the final model\n",
        "    :param x: Preprocessed English data\n",
        "    :param y: Preprocessed French data\n",
        "    :param x_tk: English tokenizer\n",
        "    :param y_tk: French tokenizer\n",
        "    \"\"\"\n",
        "    # Pass pretrained model\n",
        "    model = bd_embedded_rnn_model\n",
        "\n",
        "    \n",
        "    ## DON'T EDIT ANYTHING BELOW THIS LINE\n",
        "    y_id_to_word = {value: key for key, value in y_tk.word_index.items()}\n",
        "    y_id_to_word[0] = '<PAD>'\n",
        "\n",
        "    sentence = 'he saw a old yellow truck'\n",
        "    sentence = [x_tk.word_index[word] for word in sentence.split()]\n",
        "    sentence = pad_sequences([sentence], maxlen=x.shape[-1], padding='post')\n",
        "    sentences = np.array([sentence[0], x[0]])\n",
        "    predictions = model.predict(sentences, len(sentences))\n",
        "\n",
        "    print('Sample 1:')\n",
        "    print(' '.join([y_id_to_word[np.argmax(x)] for x in predictions[0]]))\n",
        "    print('Il a vu un vieux camion jaune')\n",
        "    print('Sample 2:')\n",
        "    print(' '.join([y_id_to_word[np.argmax(x)] for x in predictions[1]]))\n",
        "    print(' '.join([y_id_to_word[np.max(x)] for x in y[0]]))\n",
        "\n",
        "\n",
        "final_predictions(preproc_english_sentences, preproc_french_sentences, english_tokenizer, french_tokenizer)"
      ],
      "execution_count": 0,
      "outputs": [
        {
          "output_type": "error",
          "ename": "NameError",
          "evalue": "ignored",
          "traceback": [
            "\u001b[0;31m---------------------------------------------------------------------------\u001b[0m",
            "\u001b[0;31mNameError\u001b[0m                                 Traceback (most recent call last)",
            "\u001b[0;32m<ipython-input-14-de47b0cb8888>\u001b[0m in \u001b[0;36m<module>\u001b[0;34m()\u001b[0m\n\u001b[1;32m     29\u001b[0m \u001b[0;34m\u001b[0m\u001b[0m\n\u001b[1;32m     30\u001b[0m \u001b[0;34m\u001b[0m\u001b[0m\n\u001b[0;32m---> 31\u001b[0;31m \u001b[0mfinal_predictions\u001b[0m\u001b[0;34m(\u001b[0m\u001b[0mpreproc_english_sentences\u001b[0m\u001b[0;34m,\u001b[0m \u001b[0mpreproc_french_sentences\u001b[0m\u001b[0;34m,\u001b[0m \u001b[0menglish_tokenizer\u001b[0m\u001b[0;34m,\u001b[0m \u001b[0mfrench_tokenizer\u001b[0m\u001b[0;34m)\u001b[0m\u001b[0;34m\u001b[0m\u001b[0;34m\u001b[0m\u001b[0m\n\u001b[0m",
            "\u001b[0;32m<ipython-input-14-de47b0cb8888>\u001b[0m in \u001b[0;36mfinal_predictions\u001b[0;34m(x, y, x_tk, y_tk)\u001b[0m\n\u001b[1;32m      8\u001b[0m     \"\"\"\n\u001b[1;32m      9\u001b[0m     \u001b[0;31m# Pass pretrained model\u001b[0m\u001b[0;34m\u001b[0m\u001b[0;34m\u001b[0m\u001b[0;34m\u001b[0m\u001b[0m\n\u001b[0;32m---> 10\u001b[0;31m     \u001b[0mmodel\u001b[0m \u001b[0;34m=\u001b[0m \u001b[0mbd_embedded_rnn_model\u001b[0m\u001b[0;34m\u001b[0m\u001b[0;34m\u001b[0m\u001b[0m\n\u001b[0m\u001b[1;32m     11\u001b[0m \u001b[0;34m\u001b[0m\u001b[0m\n\u001b[1;32m     12\u001b[0m \u001b[0;34m\u001b[0m\u001b[0m\n",
            "\u001b[0;31mNameError\u001b[0m: name 'bd_embedded_rnn_model' is not defined"
          ]
        }
      ]
    },
    {
      "cell_type": "markdown",
      "metadata": {
        "id": "KNzkrEuX09Xq",
        "colab_type": "text"
      },
      "source": [
        "## Submission\n",
        "When you're ready to submit, complete the following steps:\n",
        "1. Review the [rubric](https://review.udacity.com/#!/rubrics/1004/view) to ensure your submission meets all requirements to pass\n",
        "2. Generate an HTML version of this notebook\n",
        "\n",
        "  - Run the next cell to attempt automatic generation (this is the recommended method in Workspaces)\n",
        "  - Navigate to **FILE -> Download as -> HTML (.html)**\n",
        "  - Manually generate a copy using `nbconvert` from your shell terminal\n",
        "```\n",
        "$ pip install nbconvert\n",
        "$ python -m nbconvert machine_translation.ipynb\n",
        "```\n",
        "  \n",
        "3. Submit the project\n",
        "\n",
        "  - If you are in a Workspace, simply click the \"Submit Project\" button (bottom towards the right)\n",
        "  \n",
        "  - Otherwise, add the following files into a zip archive and submit them \n",
        "  - `helper.py`\n",
        "  - `machine_translation.ipynb`\n",
        "  - `machine_translation.html`\n",
        "    - You can export the notebook by navigating to **File -> Download as -> HTML (.html)**."
      ]
    },
    {
      "cell_type": "code",
      "metadata": {
        "id": "oTVijfX509Xq",
        "colab_type": "code",
        "colab": {}
      },
      "source": [
        "!!python -m nbconvert *.ipynb"
      ],
      "execution_count": 0,
      "outputs": []
    },
    {
      "cell_type": "markdown",
      "metadata": {
        "id": "bw1YKNUH09Xr",
        "colab_type": "text"
      },
      "source": [
        "## Optional Enhancements\n",
        "\n",
        "This project focuses on learning various network architectures for machine translation, but we don't evaluate the models according to best practices by splitting the data into separate test & training sets -- so the model accuracy is overstated. Use the [`sklearn.model_selection.train_test_split()`](http://scikit-learn.org/stable/modules/generated/sklearn.model_selection.train_test_split.html) function to create separate training & test datasets, then retrain each of the models using only the training set and evaluate the prediction accuracy using the hold out test set. Does the \"best\" model change?"
      ]
    }
  ]
}